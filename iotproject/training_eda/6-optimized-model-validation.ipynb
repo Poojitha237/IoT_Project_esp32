{
 "cells": [
  {
   "cell_type": "code",
   "execution_count": 1,
   "id": "3851bb29",
   "metadata": {},
   "outputs": [],
   "source": [
    "#import keepsake\n",
    "import pandas as pd\n",
    "import numpy as np\n",
    "\n",
    "from validation_utils import transform_data_for_inference, line_color, downsample_df, run_inference, calculate_error, filter_df_by_signals, get_move_from_path\n",
    "\n",
    "import seaborn as sns\n",
    "import matplotlib.pyplot as plt\n",
    "import matplotlib.patches as mpatches\n",
    "\n",
    "plt.style.use('ggplot')\n",
    "\n",
    "%matplotlib inline"
   ]
  },
  {
   "cell_type": "code",
   "execution_count": 1,
   "id": "319e43b1",
   "metadata": {},
   "outputs": [],
   "source": [
    "# define model imports based on experiment ids\n",
    "\n",
    "from models.optimized.base.random_forest import random_forest_20_acc_x_acc_y_acc_z_gyro_x_gyro_y_4 as rf_1 # 20hz\n",
    "from models.optimized.base.random_forest import random_forest_50_acc_x_acc_y_acc_z_gyro_x_gyro_y_6 as rf_2 # 50hz\n",
    "\n",
    "from models.optimized.base.decision_tree import decision_tree_25hz_acc_x_acc_y_acc_z_gyro_x as dt_1 # 25hz\n",
    "from models.optimized.base.decision_tree import decision_tree_25hz_acc_x_acc_y_acc_z_gyro_y as dt_2 # 25hz"
   ]
  },
  {
   "cell_type": "code",
   "execution_count": 2,
   "id": "3211324b",
   "metadata": {},
   "outputs": [],
   "source": [
    "# load baseline models for comparison between optimized and baseline (all signals)\n",
    "\n",
    "from models.baseline.base.random_forest import random_forest_20hz\n",
    "from models.baseline.base.random_forest import random_forest_50hz\n",
    "\n",
    "from models.baseline.base.decision_tree import decision_tree_25hz"
   ]
  },
  {
   "cell_type": "code",
   "execution_count": 4,
   "id": "623c904b",
   "metadata": {},
   "outputs": [],
   "source": [
    "from importlib.machinery import SourceFileLoader\n",
    "import importlib.util\n",
    "import sys\n",
    "import os\n",
    "\n",
    "\n"
   ]
  },
  {
   "cell_type": "code",
   "execution_count": 6,
   "id": "d9811c49",
   "metadata": {},
   "outputs": [
    {
     "name": "stdout",
     "output_type": "stream",
     "text": [
      "Cleaned: models/optimized/base\\decision_tree\\decision_tree_25hz_acc_x_acc_y_acc_z_gyro_x.py\n",
      "Cleaned: models/optimized/base\\decision_tree\\decision_tree_25hz_acc_x_acc_y_acc_z_gyro_y.py\n",
      "Cleaned: models/optimized/base\\decision_tree\\decision_tree_25hz_acc_x_acc_y_acc_z_gyro_z.py\n",
      "Cleaned: models/optimized/base\\decision_tree\\decision_tree_decision_tree_25hz.py\n",
      "Cleaned: models/optimized/base\\random_forest\\random_forest_20_acc_x_acc_y_acc_z_gyro_x_gyro_y_4.py\n",
      "Cleaned: models/optimized/base\\random_forest\\random_forest_20_acc_x_acc_y_acc_z_gyro_x_gyro_y_5.py\n",
      "Cleaned: models/optimized/base\\random_forest\\random_forest_20_acc_x_acc_y_acc_z_gyro_x_gyro_y_6.py\n",
      "Cleaned: models/optimized/base\\random_forest\\random_forest_20_acc_x_acc_y_acc_z_gyro_x_gyro_z_4.py\n",
      "Cleaned: models/optimized/base\\random_forest\\random_forest_25_acc_x_acc_y_acc_z_gyro_x_gyro_y_gyro_z_5.py\n",
      "Cleaned: models/optimized/base\\random_forest\\random_forest_25_acc_x_acc_y_acc_z_gyro_x_gyro_y_gyro_z_6.py\n",
      "Cleaned: models/optimized/base\\random_forest\\random_forest_50_acc_x_acc_y_acc_z_gyro_x_gyro_y_6.py\n",
      "Cleaned: models/optimized/base\\random_forest\\random_forest_50_acc_x_acc_y_acc_z_gyro_x_gyro_y_gyro_z_5.py\n",
      "Cleaned: models/optimized/base\\random_forest\\random_forest_50_acc_x_acc_y_acc_z_gyro_x_gyro_z_6.py\n"
     ]
    }
   ],
   "source": [
    "import os\n",
    "\n",
    "def clean_model_files(models_dir=\"models/optimized/base\"):\n",
    "    for root, dirs, files in os.walk(models_dir):\n",
    "        for file in files:\n",
    "            if file.endswith(\".py\"):\n",
    "                file_path = os.path.join(root, file)\n",
    "                with open(file_path, 'rb') as f:\n",
    "                    content = f.read()\n",
    "                cleaned_content = content.replace(b'\\x00', b'')\n",
    "                with open(file_path, 'wb') as f:\n",
    "                    f.write(cleaned_content)\n",
    "                print(f\"Cleaned: {file_path}\")\n",
    "\n",
    "clean_model_files()\n"
   ]
  },
  {
   "cell_type": "code",
   "execution_count": 7,
   "id": "9f8b4f55",
   "metadata": {},
   "outputs": [],
   "source": [
    "def save_model_optimized(model, stage, dataset, model_type, exp_id):\n",
    "    model_dir = f\"models/{stage}/{dataset}/{model_type}/\"\n",
    "    os.makedirs(model_dir, exist_ok=True)\n",
    "    model_filename = f\"{model_dir}/{exp_id}.py\"\n",
    "    \n",
    "    # Generate code and remove null bytes\n",
    "    py_code = m2cgen.export_to_python(model)\n",
    "    py_code = py_code.replace('\\x00', '')  # Proactively remove null bytes\n",
    "    \n",
    "    with open(model_filename, 'w', encoding='utf-8') as f:\n",
    "        f.write(py_code)\n",
    "    \n",
    "    return model_filename\n"
   ]
  },
  {
   "cell_type": "code",
   "execution_count": 8,
   "id": "35a9816b",
   "metadata": {},
   "outputs": [],
   "source": [
    "from importlib.machinery import SourceFileLoader\n",
    "import importlib.util\n",
    "import sys\n",
    "import os\n",
    "\n",
    "def load_py_model(model_path):\n",
    "    try:\n",
    "        module_name = os.path.splitext(os.path.basename(model_path))[0]\n",
    "        loader = SourceFileLoader(module_name, model_path)\n",
    "        spec = importlib.util.spec_from_loader(module_name, loader)\n",
    "        \n",
    "        if not spec:\n",
    "            raise ValueError(f\"Invalid model file: {model_path}\")\n",
    "            \n",
    "        module = importlib.util.module_from_spec(spec)\n",
    "        sys.modules[module_name] = module\n",
    "        spec.loader.exec_module(module)\n",
    "        return module.score\n",
    "        \n",
    "    except ValueError as e:\n",
    "        print(f\"Critical error in {model_path}: {str(e)}\")\n",
    "        raise\n"
   ]
  },
  {
   "cell_type": "code",
   "execution_count": null,
   "id": "86910847",
   "metadata": {},
   "outputs": [],
   "source": []
  }
 ],
 "metadata": {
  "kernelspec": {
   "display_name": "ml_course",
   "language": "python",
   "name": "python3"
  },
  "language_info": {
   "codemirror_mode": {
    "name": "ipython",
    "version": 3
   },
   "file_extension": ".py",
   "mimetype": "text/x-python",
   "name": "python",
   "nbconvert_exporter": "python",
   "pygments_lexer": "ipython3",
   "version": "3.8.19"
  }
 },
 "nbformat": 4,
 "nbformat_minor": 5
}
